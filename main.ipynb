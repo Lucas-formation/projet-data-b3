{
 "cells": [
  {
   "cell_type": "markdown",
   "metadata": {},
   "source": [
    "# Projet data\n",
    "\n",
    "Covid dans le monde."
   ]
  },
  {
   "cell_type": "markdown",
   "metadata": {},
   "source": [
    "## Préparation\n",
    "\n",
    "### Importation de bibliothèque\n"
   ]
  },
  {
   "cell_type": "code",
   "execution_count": 1,
   "metadata": {},
   "outputs": [],
   "source": [
    "import numpy as np\n",
    "import pandas as pd\n",
    "import matplotlib.pyplot as plt"
   ]
  },
  {
   "cell_type": "markdown",
   "metadata": {},
   "source": [
    "### Extraction du csv"
   ]
  },
  {
   "cell_type": "code",
   "execution_count": 6,
   "metadata": {},
   "outputs": [
    {
     "data": {
      "text/html": [
       "<div>\n",
       "<style scoped>\n",
       "    .dataframe tbody tr th:only-of-type {\n",
       "        vertical-align: middle;\n",
       "    }\n",
       "\n",
       "    .dataframe tbody tr th {\n",
       "        vertical-align: top;\n",
       "    }\n",
       "\n",
       "    .dataframe thead th {\n",
       "        text-align: right;\n",
       "    }\n",
       "</style>\n",
       "<table border=\"1\" class=\"dataframe\">\n",
       "  <thead>\n",
       "    <tr style=\"text-align: right;\">\n",
       "      <th></th>\n",
       "      <th>date</th>\n",
       "      <th>code</th>\n",
       "      <th>nom</th>\n",
       "      <th>cas</th>\n",
       "      <th>deces</th>\n",
       "      <th>guerisons</th>\n",
       "      <th>source</th>\n",
       "    </tr>\n",
       "  </thead>\n",
       "  <tbody>\n",
       "    <tr>\n",
       "      <th>0</th>\n",
       "      <td>2020-02-21</td>\n",
       "      <td>P1</td>\n",
       "      <td>france</td>\n",
       "      <td>12.0</td>\n",
       "      <td>1.0</td>\n",
       "      <td>NaN</td>\n",
       "      <td>Santé Publique France</td>\n",
       "    </tr>\n",
       "    <tr>\n",
       "      <th>1</th>\n",
       "      <td>2020-02-22</td>\n",
       "      <td>P1</td>\n",
       "      <td>france</td>\n",
       "      <td>12.0</td>\n",
       "      <td>1.0</td>\n",
       "      <td>NaN</td>\n",
       "      <td>Santé Publique France</td>\n",
       "    </tr>\n",
       "    <tr>\n",
       "      <th>2</th>\n",
       "      <td>2020-02-23</td>\n",
       "      <td>P1</td>\n",
       "      <td>france</td>\n",
       "      <td>12.0</td>\n",
       "      <td>1.0</td>\n",
       "      <td>NaN</td>\n",
       "      <td>Santé Publique France</td>\n",
       "    </tr>\n",
       "    <tr>\n",
       "      <th>3</th>\n",
       "      <td>2020-02-24</td>\n",
       "      <td>P1</td>\n",
       "      <td>france</td>\n",
       "      <td>12.0</td>\n",
       "      <td>1.0</td>\n",
       "      <td>NaN</td>\n",
       "      <td>Santé Publique France</td>\n",
       "    </tr>\n",
       "    <tr>\n",
       "      <th>4</th>\n",
       "      <td>2020-02-25</td>\n",
       "      <td>P1</td>\n",
       "      <td>france</td>\n",
       "      <td>14.0</td>\n",
       "      <td>1.0</td>\n",
       "      <td>NaN</td>\n",
       "      <td>Santé Publique France</td>\n",
       "    </tr>\n",
       "    <tr>\n",
       "      <th>5</th>\n",
       "      <td>2020-02-26</td>\n",
       "      <td>P1</td>\n",
       "      <td>france</td>\n",
       "      <td>18.0</td>\n",
       "      <td>2.0</td>\n",
       "      <td>NaN</td>\n",
       "      <td>Santé Publique France</td>\n",
       "    </tr>\n",
       "    <tr>\n",
       "      <th>6</th>\n",
       "      <td>2020-02-27</td>\n",
       "      <td>P1</td>\n",
       "      <td>france</td>\n",
       "      <td>38.0</td>\n",
       "      <td>2.0</td>\n",
       "      <td>NaN</td>\n",
       "      <td>Santé Publique France</td>\n",
       "    </tr>\n",
       "    <tr>\n",
       "      <th>7</th>\n",
       "      <td>2020-02-28</td>\n",
       "      <td>P1</td>\n",
       "      <td>france</td>\n",
       "      <td>73.0</td>\n",
       "      <td>2.0</td>\n",
       "      <td>NaN</td>\n",
       "      <td>Santé Publique France</td>\n",
       "    </tr>\n",
       "    <tr>\n",
       "      <th>8</th>\n",
       "      <td>2020-02-29</td>\n",
       "      <td>P1</td>\n",
       "      <td>france</td>\n",
       "      <td>100.0</td>\n",
       "      <td>2.0</td>\n",
       "      <td>NaN</td>\n",
       "      <td>Santé Publique France</td>\n",
       "    </tr>\n",
       "    <tr>\n",
       "      <th>9</th>\n",
       "      <td>2020-03-01</td>\n",
       "      <td>P1</td>\n",
       "      <td>france</td>\n",
       "      <td>130.0</td>\n",
       "      <td>2.0</td>\n",
       "      <td>NaN</td>\n",
       "      <td>Santé Publique France</td>\n",
       "    </tr>\n",
       "    <tr>\n",
       "      <th>10</th>\n",
       "      <td>2020-03-02</td>\n",
       "      <td>P1</td>\n",
       "      <td>france</td>\n",
       "      <td>191.0</td>\n",
       "      <td>3.0</td>\n",
       "      <td>NaN</td>\n",
       "      <td>Santé Publique France</td>\n",
       "    </tr>\n",
       "    <tr>\n",
       "      <th>11</th>\n",
       "      <td>2020-03-03</td>\n",
       "      <td>P1</td>\n",
       "      <td>france</td>\n",
       "      <td>212.0</td>\n",
       "      <td>4.0</td>\n",
       "      <td>NaN</td>\n",
       "      <td>Santé Publique France</td>\n",
       "    </tr>\n",
       "    <tr>\n",
       "      <th>12</th>\n",
       "      <td>2020-03-04</td>\n",
       "      <td>P1</td>\n",
       "      <td>france</td>\n",
       "      <td>285.0</td>\n",
       "      <td>4.0</td>\n",
       "      <td>NaN</td>\n",
       "      <td>Santé Publique France</td>\n",
       "    </tr>\n",
       "    <tr>\n",
       "      <th>13</th>\n",
       "      <td>2020-03-05</td>\n",
       "      <td>P1</td>\n",
       "      <td>france</td>\n",
       "      <td>423.0</td>\n",
       "      <td>7.0</td>\n",
       "      <td>NaN</td>\n",
       "      <td>Santé Publique France</td>\n",
       "    </tr>\n",
       "    <tr>\n",
       "      <th>14</th>\n",
       "      <td>2020-03-06</td>\n",
       "      <td>P1</td>\n",
       "      <td>france</td>\n",
       "      <td>613.0</td>\n",
       "      <td>11.0</td>\n",
       "      <td>NaN</td>\n",
       "      <td>Santé Publique France</td>\n",
       "    </tr>\n",
       "    <tr>\n",
       "      <th>15</th>\n",
       "      <td>2020-03-07</td>\n",
       "      <td>P1</td>\n",
       "      <td>france</td>\n",
       "      <td>949.0</td>\n",
       "      <td>16.0</td>\n",
       "      <td>NaN</td>\n",
       "      <td>Santé Publique France</td>\n",
       "    </tr>\n",
       "    <tr>\n",
       "      <th>16</th>\n",
       "      <td>2020-03-08</td>\n",
       "      <td>P1</td>\n",
       "      <td>france</td>\n",
       "      <td>1126.0</td>\n",
       "      <td>19.0</td>\n",
       "      <td>NaN</td>\n",
       "      <td>Santé Publique France</td>\n",
       "    </tr>\n",
       "    <tr>\n",
       "      <th>17</th>\n",
       "      <td>2020-03-09</td>\n",
       "      <td>P1</td>\n",
       "      <td>france</td>\n",
       "      <td>1412.0</td>\n",
       "      <td>30.0</td>\n",
       "      <td>NaN</td>\n",
       "      <td>Santé Publique France</td>\n",
       "    </tr>\n",
       "    <tr>\n",
       "      <th>18</th>\n",
       "      <td>2020-03-10</td>\n",
       "      <td>P1</td>\n",
       "      <td>france</td>\n",
       "      <td>1784.0</td>\n",
       "      <td>33.0</td>\n",
       "      <td>NaN</td>\n",
       "      <td>Santé Publique France</td>\n",
       "    </tr>\n",
       "    <tr>\n",
       "      <th>19</th>\n",
       "      <td>2020-03-11</td>\n",
       "      <td>P1</td>\n",
       "      <td>france</td>\n",
       "      <td>2281.0</td>\n",
       "      <td>48.0</td>\n",
       "      <td>NaN</td>\n",
       "      <td>Santé Publique France</td>\n",
       "    </tr>\n",
       "  </tbody>\n",
       "</table>\n",
       "</div>"
      ],
      "text/plain": [
       "          date code     nom     cas  deces  guerisons                 source\n",
       "0   2020-02-21   P1  france    12.0    1.0        NaN  Santé Publique France\n",
       "1   2020-02-22   P1  france    12.0    1.0        NaN  Santé Publique France\n",
       "2   2020-02-23   P1  france    12.0    1.0        NaN  Santé Publique France\n",
       "3   2020-02-24   P1  france    12.0    1.0        NaN  Santé Publique France\n",
       "4   2020-02-25   P1  france    14.0    1.0        NaN  Santé Publique France\n",
       "5   2020-02-26   P1  france    18.0    2.0        NaN  Santé Publique France\n",
       "6   2020-02-27   P1  france    38.0    2.0        NaN  Santé Publique France\n",
       "7   2020-02-28   P1  france    73.0    2.0        NaN  Santé Publique France\n",
       "8   2020-02-29   P1  france   100.0    2.0        NaN  Santé Publique France\n",
       "9   2020-03-01   P1  france   130.0    2.0        NaN  Santé Publique France\n",
       "10  2020-03-02   P1  france   191.0    3.0        NaN  Santé Publique France\n",
       "11  2020-03-03   P1  france   212.0    4.0        NaN  Santé Publique France\n",
       "12  2020-03-04   P1  france   285.0    4.0        NaN  Santé Publique France\n",
       "13  2020-03-05   P1  france   423.0    7.0        NaN  Santé Publique France\n",
       "14  2020-03-06   P1  france   613.0   11.0        NaN  Santé Publique France\n",
       "15  2020-03-07   P1  france   949.0   16.0        NaN  Santé Publique France\n",
       "16  2020-03-08   P1  france  1126.0   19.0        NaN  Santé Publique France\n",
       "17  2020-03-09   P1  france  1412.0   30.0        NaN  Santé Publique France\n",
       "18  2020-03-10   P1  france  1784.0   33.0        NaN  Santé Publique France\n",
       "19  2020-03-11   P1  france  2281.0   48.0        NaN  Santé Publique France"
      ]
     },
     "execution_count": 6,
     "metadata": {},
     "output_type": "execute_result"
    }
   ],
   "source": [
    "# Extraite les données du CSV\n",
    "df = pd.read_csv('dataset/open_stats_coronavirus.csv', sep=\";\")\n",
    "# Affichage des 5 premières valeurs\n",
    "df.head(20)"
   ]
  },
  {
   "cell_type": "markdown",
   "metadata": {},
   "source": [
    "### Première analyse"
   ]
  },
  {
   "cell_type": "code",
   "execution_count": 7,
   "metadata": {},
   "outputs": [
    {
     "name": "stdout",
     "output_type": "stream",
     "text": [
      "<class 'pandas.core.frame.DataFrame'>\n",
      "RangeIndex: 109576 entries, 0 to 109575\n",
      "Data columns (total 7 columns):\n",
      " #   Column     Non-Null Count   Dtype  \n",
      "---  ------     --------------   -----  \n",
      " 0   date       109576 non-null  object \n",
      " 1   code       109576 non-null  object \n",
      " 2   nom        109576 non-null  object \n",
      " 3   cas        48539 non-null   float64\n",
      " 4   deces      107920 non-null  float64\n",
      " 5   guerisons  92001 non-null   float64\n",
      " 6   source     87267 non-null   object \n",
      "dtypes: float64(3), object(4)\n",
      "memory usage: 5.9+ MB\n"
     ]
    }
   ],
   "source": [
    "# Information générale\n",
    "df.info()"
   ]
  },
  {
   "cell_type": "code",
   "execution_count": 8,
   "metadata": {},
   "outputs": [
    {
     "data": {
      "text/html": [
       "<div>\n",
       "<style scoped>\n",
       "    .dataframe tbody tr th:only-of-type {\n",
       "        vertical-align: middle;\n",
       "    }\n",
       "\n",
       "    .dataframe tbody tr th {\n",
       "        vertical-align: top;\n",
       "    }\n",
       "\n",
       "    .dataframe thead th {\n",
       "        text-align: right;\n",
       "    }\n",
       "</style>\n",
       "<table border=\"1\" class=\"dataframe\">\n",
       "  <thead>\n",
       "    <tr style=\"text-align: right;\">\n",
       "      <th></th>\n",
       "      <th>cas</th>\n",
       "      <th>deces</th>\n",
       "      <th>guerisons</th>\n",
       "    </tr>\n",
       "  </thead>\n",
       "  <tbody>\n",
       "    <tr>\n",
       "      <th>count</th>\n",
       "      <td>4.853900e+04</td>\n",
       "      <td>107920.000000</td>\n",
       "      <td>9.200100e+04</td>\n",
       "    </tr>\n",
       "    <tr>\n",
       "      <th>mean</th>\n",
       "      <td>2.020779e+06</td>\n",
       "      <td>19190.124676</td>\n",
       "      <td>2.559483e+05</td>\n",
       "    </tr>\n",
       "    <tr>\n",
       "      <th>std</th>\n",
       "      <td>5.963793e+06</td>\n",
       "      <td>72967.266912</td>\n",
       "      <td>1.509382e+06</td>\n",
       "    </tr>\n",
       "    <tr>\n",
       "      <th>min</th>\n",
       "      <td>0.000000e+00</td>\n",
       "      <td>0.000000</td>\n",
       "      <td>0.000000e+00</td>\n",
       "    </tr>\n",
       "    <tr>\n",
       "      <th>25%</th>\n",
       "      <td>2.108200e+04</td>\n",
       "      <td>96.000000</td>\n",
       "      <td>4.750000e+02</td>\n",
       "    </tr>\n",
       "    <tr>\n",
       "      <th>50%</th>\n",
       "      <td>2.724210e+05</td>\n",
       "      <td>497.000000</td>\n",
       "      <td>1.903000e+03</td>\n",
       "    </tr>\n",
       "    <tr>\n",
       "      <th>75%</th>\n",
       "      <td>1.459272e+06</td>\n",
       "      <td>4585.250000</td>\n",
       "      <td>1.498900e+04</td>\n",
       "    </tr>\n",
       "    <tr>\n",
       "      <th>max</th>\n",
       "      <td>7.973479e+07</td>\n",
       "      <td>975886.000000</td>\n",
       "      <td>4.007000e+07</td>\n",
       "    </tr>\n",
       "  </tbody>\n",
       "</table>\n",
       "</div>"
      ],
      "text/plain": [
       "                cas          deces     guerisons\n",
       "count  4.853900e+04  107920.000000  9.200100e+04\n",
       "mean   2.020779e+06   19190.124676  2.559483e+05\n",
       "std    5.963793e+06   72967.266912  1.509382e+06\n",
       "min    0.000000e+00       0.000000  0.000000e+00\n",
       "25%    2.108200e+04      96.000000  4.750000e+02\n",
       "50%    2.724210e+05     497.000000  1.903000e+03\n",
       "75%    1.459272e+06    4585.250000  1.498900e+04\n",
       "max    7.973479e+07  975886.000000  4.007000e+07"
      ]
     },
     "execution_count": 8,
     "metadata": {},
     "output_type": "execute_result"
    }
   ],
   "source": [
    "# Description générale des données\n",
    "df.describe()"
   ]
  },
  {
   "cell_type": "code",
   "execution_count": null,
   "metadata": {},
   "outputs": [],
   "source": []
  },
  {
   "cell_type": "code",
   "execution_count": null,
   "metadata": {},
   "outputs": [],
   "source": []
  },
  {
   "cell_type": "markdown",
   "metadata": {},
   "source": [
    "### Nettoyage"
   ]
  },
  {
   "cell_type": "code",
   "execution_count": null,
   "metadata": {},
   "outputs": [],
   "source": [
    "# Création d'un data Frame nettoyé\n",
    "df_clean = df\n",
    "\n",
    "# Sex\n",
    "a = pd.get_dummies(df_clean.Sex, prefix='sex')\n",
    "df_clean=df_clean.assign(sex_F=a['sex_F'], sex_M = a['sex_M'])\n",
    "\n",
    "df_clean = df_clean.drop([\"Sex\", \"ChestPainType\", \"RestingECG\", \"ExerciseAngina\", \"ST_Slope\"], axis = 1)\n",
    "df_clean.head()"
   ]
  },
  {
   "cell_type": "markdown",
   "metadata": {},
   "source": [
    "## Visualisation"
   ]
  },
  {
   "cell_type": "code",
   "execution_count": null,
   "metadata": {},
   "outputs": [],
   "source": []
  },
  {
   "cell_type": "markdown",
   "metadata": {},
   "source": [
    "## Machine Learning \n",
    "\n"
   ]
  },
  {
   "cell_type": "code",
   "execution_count": null,
   "metadata": {},
   "outputs": [],
   "source": [
    "# Target\n",
    "y = df_clean['']\n",
    "# Features\n",
    "X = df_clean.drop([''], axis=1)\n",
    "X.head()"
   ]
  },
  {
   "cell_type": "code",
   "execution_count": null,
   "metadata": {},
   "outputs": [],
   "source": [
    "# Découpe 70/30\n",
    "X_train, X_test, y_train, y_test = train_test_split(X, y, test_size=0.3,random_state=109)"
   ]
  },
  {
   "cell_type": "markdown",
   "metadata": {},
   "source": [
    "### SVM\n"
   ]
  },
  {
   "cell_type": "code",
   "execution_count": null,
   "metadata": {},
   "outputs": [],
   "source": [
    "# Création du SVM Classifier\n",
    "ml = svm.SVC(kernel='linear',) # Linear Kernel\n",
    "\n",
    "# Utilisation des données d'entrainement dans le modèle\n",
    "ml.fit(X_train, y_train)\n",
    "\n",
    "# Tester sur les données dédiées\n",
    "y_pred = ml.predict(X_test)"
   ]
  },
  {
   "cell_type": "code",
   "execution_count": null,
   "metadata": {},
   "outputs": [],
   "source": [
    "# Pourcentage de réponse juste\n",
    "ml.score(X_test,y_test)"
   ]
  },
  {
   "cell_type": "code",
   "execution_count": null,
   "metadata": {},
   "outputs": [],
   "source": [
    "# Matrice de confusion : 33 erreurs sur 276.\n",
    "conf_mat = metrics.confusion_matrix(y_test, y_pred)\n",
    "#conf_mat pour afficher la matrice classique\n",
    "\n",
    "# Matrice de confusion avec seaplot\n",
    "plot_confusion_matrix(conf_mat=conf_mat,\n",
    "                                colorbar=True,\n",
    "                                show_absolute=True,\n",
    "                                show_normed=True)"
   ]
  },
  {
   "cell_type": "markdown",
   "metadata": {},
   "source": [
    "### Random forest\n"
   ]
  },
  {
   "cell_type": "code",
   "execution_count": null,
   "metadata": {},
   "outputs": [],
   "source": []
  },
  {
   "cell_type": "markdown",
   "metadata": {},
   "source": [
    "### Arbre de décision"
   ]
  },
  {
   "cell_type": "code",
   "execution_count": null,
   "metadata": {},
   "outputs": [],
   "source": []
  },
  {
   "cell_type": "markdown",
   "metadata": {},
   "source": [
    "###"
   ]
  },
  {
   "cell_type": "markdown",
   "metadata": {},
   "source": [
    "## Application"
   ]
  },
  {
   "cell_type": "code",
   "execution_count": null,
   "metadata": {},
   "outputs": [],
   "source": []
  }
 ],
 "metadata": {
  "interpreter": {
   "hash": "2e5b5572fb71e631e06015711c1e6753996e78e7966fc5e76b0330130f45447a"
  },
  "kernelspec": {
   "display_name": "Python 3.10.2 64-bit (windows store)",
   "language": "python",
   "name": "python3"
  },
  "language_info": {
   "codemirror_mode": {
    "name": "ipython",
    "version": 3
   },
   "file_extension": ".py",
   "mimetype": "text/x-python",
   "name": "python",
   "nbconvert_exporter": "python",
   "pygments_lexer": "ipython3",
   "version": "3.10.3"
  },
  "orig_nbformat": 4
 },
 "nbformat": 4,
 "nbformat_minor": 2
}
